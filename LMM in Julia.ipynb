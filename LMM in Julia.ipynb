{
 "cells": [
  {
   "cell_type": "code",
   "execution_count": 17,
   "metadata": {},
   "outputs": [
    {
     "name": "stderr",
     "output_type": "stream",
     "text": [
      "\u001b[1m\u001b[36mINFO: \u001b[39m\u001b[22m\u001b[36mPackage DataFrames is already installed\n",
      "\u001b[39m\u001b[1m\u001b[36mINFO: \u001b[39m\u001b[22m\u001b[36mMETADATA is out-of-date — you may not have the latest version of DataFrames\n",
      "\u001b[39m\u001b[1m\u001b[36mINFO: \u001b[39m\u001b[22m\u001b[36mUse `Pkg.update()` to get the latest versions of your packages\n",
      "\u001b[39m\u001b[1m\u001b[36mINFO: \u001b[39m\u001b[22m\u001b[36mPackage MixedModels is already installed\n",
      "\u001b[39m\u001b[1m\u001b[36mINFO: \u001b[39m\u001b[22m\u001b[36mMETADATA is out-of-date — you may not have the latest version of MixedModels\n",
      "\u001b[39m\u001b[1m\u001b[36mINFO: \u001b[39m\u001b[22m\u001b[36mUse `Pkg.update()` to get the latest versions of your packages\n",
      "\u001b[39m"
     ]
    },
    {
     "data": {
      "text/plain": [
       "\"/Users/yingzhaozhou/Desktop/MyData.csv\""
      ]
     },
     "execution_count": 17,
     "metadata": {},
     "output_type": "execute_result"
    }
   ],
   "source": [
    "Pkg.add(\"DataFrames\")\n",
    "Pkg.add(\"MixedModels\")\n",
    "using DataFrames\n",
    "df = \"/Users/yingzhaozhou/Desktop/MyData.csv\"\n"
   ]
  },
  {
   "cell_type": "code",
   "execution_count": 18,
   "metadata": {},
   "outputs": [
    {
     "data": {
      "text/plain": [
       "$ (generic function with 1 method)"
      ]
     },
     "execution_count": 18,
     "metadata": {},
     "output_type": "execute_result"
    }
   ],
   "source": [
    "df$lgRT = log(df$READTIME)\n",
    "df$lgBLK = log(df$BLOCK)\n",
    "df$NUM_MATCH = ifelse(df$N1NUM == df$N2NUM, 1, 2)\n",
    "df$GRAM = ifelse(df$N1NUM == df$VBNUM, 3, 4)\n",
    "df$COND3 = df$NUM_MATCH*df$GRAM\n",
    "df$NUM_MATCH = ifelse(df$N1NUM == df$N2NUM, 2, 1)\n",
    "df$GRAM = ifelse(df$N1NUM == df$VBNUM, 3, 4)\n",
    "df$COND4 = df$NUM_MATCH*df$GRAM\n",
    "df$NUM_MATCH = ifelse(df$N1NUM == df$N2NUM, 1, 2)\n",
    "df$GRAM = ifelse(df$N1NUM == df$VBNUM, 4, 3)\n",
    "df$COND5 = df$NUM_MATCH*df$GRAM\n",
    "df$NUM_MATCH = ifelse(df$N1NUM == df$N2NUM, 2, 1)\n",
    "df$GRAM = ifelse(df$N1NUM == df$VBNUM, 4, 3)\n",
    "df$COND6 = df$NUM_MATCH*df$GRAM\n",
    "df$COND3 = factor(df$COND3)\n",
    "df$COND4 = factor(df$COND4)\n",
    "df$COND5 = factor(df$COND5)\n",
    "df$COND6 = factor(df$COND6)"
   ]
  },
  {
   "cell_type": "code",
   "execution_count": 20,
   "metadata": {},
   "outputs": [
    {
     "ename": "LoadError",
     "evalue": "\u001b[91mMethodError: no method matching lmm(::StatsModels.Formula, ::String)\u001b[0m\nClosest candidates are:\n  lmm(::StatsModels.Formula, \u001b[91m::DataFrames.AbstractDataFrame\u001b[39m) at deprecated.jl:56\u001b[39m",
     "output_type": "error",
     "traceback": [
      "\u001b[91mMethodError: no method matching lmm(::StatsModels.Formula, ::String)\u001b[0m\nClosest candidates are:\n  lmm(::StatsModels.Formula, \u001b[91m::DataFrames.AbstractDataFrame\u001b[39m) at deprecated.jl:56\u001b[39m",
      "",
      "Stacktrace:",
      " [1] \u001b[1minclude_string\u001b[22m\u001b[22m\u001b[1m(\u001b[22m\u001b[22m::String, ::String\u001b[1m)\u001b[22m\u001b[22m at \u001b[1m./loading.jl:522\u001b[22m\u001b[22m"
     ]
    }
   ],
   "source": [
    "using MixedModels\n",
    "fit1 = fit!(lmm(@formula(lgRT ~ 1 + lgBLK + COND3 + COND3*lgBLK + (1 + COND3 +\n",
    "lgBLK |SUBJECT)), df), false)\n",
    "fit2 = fit!(lmm(@formula(lgRT ~ 1 + lgBLK + COND4 + COND4*lgBLK + (1 + COND4 +\n",
    "lgBLK |SUBJECT)), df), false)\n",
    "fit3 = fit!(lmm(@formula(lgRT ~ 1 + lgBLK + COND5 + COND5*lgBLK + (1 + COND5 +\n",
    "lgBLK |SUBJECT)), df), false)\n",
    "fit4 = fit!(lmm(@formula(lgRT ~ 1 + lgBLK + COND6 + COND6*lgBLK + (1 + COND6 +\n",
    "lgBLK |SUBJECT)), df), false)"
   ]
  },
  {
   "cell_type": "code",
   "execution_count": null,
   "metadata": {},
   "outputs": [],
   "source": []
  },
  {
   "cell_type": "code",
   "execution_count": null,
   "metadata": {},
   "outputs": [],
   "source": []
  }
 ],
 "metadata": {
  "kernelspec": {
   "display_name": "Julia 0.6.4",
   "language": "julia",
   "name": "julia-0.6"
  },
  "language_info": {
   "file_extension": ".jl",
   "mimetype": "application/julia",
   "name": "julia",
   "version": "0.6.4"
  }
 },
 "nbformat": 4,
 "nbformat_minor": 2
}
